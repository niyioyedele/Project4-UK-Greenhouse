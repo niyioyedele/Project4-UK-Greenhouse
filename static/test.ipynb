{
 "metadata": {
  "language_info": {
   "codemirror_mode": {
    "name": "ipython",
    "version": 3
   },
   "file_extension": ".py",
   "mimetype": "text/x-python",
   "name": "python",
   "nbconvert_exporter": "python",
   "pygments_lexer": "ipython3",
   "version": "3.8.10"
  },
  "orig_nbformat": 2,
  "kernelspec": {
   "name": "python3810jvsc74a57bd07b4db27c24042f9b89d704a7808b7302a93f1ac05afbfbfd2803084aef57a220",
   "display_name": "Python 3.8.10 64-bit ('PythonFlaskEnv': conda)"
  }
 },
 "nbformat": 4,
 "nbformat_minor": 2,
 "cells": [
  {
   "cell_type": "code",
   "execution_count": 9,
   "metadata": {},
   "outputs": [
    {
     "output_type": "error",
     "ename": "ModuleNotFoundError",
     "evalue": "No module named 'config'",
     "traceback": [
      "\u001b[1;31m---------------------------------------------------------------------------\u001b[0m",
      "\u001b[1;31mModuleNotFoundError\u001b[0m                       Traceback (most recent call last)",
      "\u001b[1;32m<ipython-input-9-e1e3ad14220d>\u001b[0m in \u001b[0;36m<module>\u001b[1;34m\u001b[0m\n\u001b[0;32m      4\u001b[0m \u001b[1;32mimport\u001b[0m \u001b[0mpandas\u001b[0m \u001b[1;32mas\u001b[0m \u001b[0mpd\u001b[0m\u001b[1;33m\u001b[0m\u001b[1;33m\u001b[0m\u001b[0m\n\u001b[0;32m      5\u001b[0m \u001b[1;32mimport\u001b[0m \u001b[0mjson\u001b[0m\u001b[1;33m\u001b[0m\u001b[1;33m\u001b[0m\u001b[0m\n\u001b[1;32m----> 6\u001b[1;33m \u001b[1;32mfrom\u001b[0m \u001b[0mconfig\u001b[0m \u001b[1;32mimport\u001b[0m \u001b[0mpassword\u001b[0m\u001b[1;33m\u001b[0m\u001b[1;33m\u001b[0m\u001b[0m\n\u001b[0m\u001b[0;32m      7\u001b[0m \u001b[1;33m\u001b[0m\u001b[0m\n",
      "\u001b[1;31mModuleNotFoundError\u001b[0m: No module named 'config'"
     ]
    }
   ],
   "source": [
    "import psycopg2 \n",
    "from psycopg2.extras import RealDictCursor\n",
    "from flask import Flask, render_template \n",
    "import pandas as pd \n",
    "import json\n",
    "from config import password\n",
    "\n"
   ]
  },
  {
   "cell_type": "code",
   "execution_count": 2,
   "metadata": {},
   "outputs": [
    {
     "output_type": "stream",
     "name": "stdout",
     "text": [
      "Connection closed\n"
     ]
    }
   ],
   "source": [
    "#  Connection to energy table \n",
    "try: \n",
    "    connection = psycopg2.connect(user = \"postgres\", \n",
    "                                  password= \"Adewuniyi&3\", \n",
    "                                  host = \"127.0.0.1\", \n",
    "                                  port = \"5432\",\n",
    "                                  database = \"ukgreenhouse\") \n",
    "    cursor = connection.cursor(cursor_factory=RealDictCursor)\n",
    "    selection = \"SELECT * FROM source\"\n",
    "    cursor.execute(selection)\n",
    "    source = cursor.fetchall()\n",
    "    source_df = pd.DataFrame(source)\n",
    "except (Exception, psycopg2.Error) as error : \n",
    "    print (\"Error\", error)\n",
    "finally: \n",
    "    if connection:\n",
    "        cursor.close()\n",
    "        connection.close()\n",
    "        print(\"Connection closed\")"
   ]
  },
  {
   "cell_type": "code",
   "execution_count": 3,
   "metadata": {},
   "outputs": [],
   "source": [
    "app = Flask(__name__)\n",
    "\n",
    "@app.route(\"/\")\n",
    "def home():\n",
    "    return render_template(\"index.html\")"
   ]
  },
  {
   "cell_type": "code",
   "execution_count": 4,
   "metadata": {},
   "outputs": [],
   "source": [
    "@app.route(\"/api/source\")\n",
    "def souce():\n",
    "    result = source_df.to_json(orient=\"records\")\n",
    "    parsed = json.loads(result)\n",
    "    souce_json = json.dumps(parsed, skipkeys = True, allow_nan = True, indent = 6) \n",
    "    return source_json\n"
   ]
  },
  {
   "cell_type": "code",
   "execution_count": 6,
   "metadata": {},
   "outputs": [
    {
     "output_type": "stream",
     "name": "stdout",
     "text": [
      "Error name 'password' is not defined\nConnection closed\n"
     ]
    }
   ],
   "source": [
    "#  Connection to emissions table \n",
    "try: \n",
    "    connection = psycopg2.connect(user = \"postgres\", \n",
    "                                  password= password, \n",
    "                                  host = \"127.0.0.1\", \n",
    "                                  port = \"5432\",\n",
    "                                  database = \"ukgreenhouse\") \n",
    "    cursor = connection.cursor(cursor_factory=RealDictCursor)\n",
    "    selection = \"SELECT * FROM emissions\"\n",
    "    cursor.execute(selection)\n",
    "    emissions = cursor.fetchall()\n",
    "    emissions_df = pd.DataFrame(emissions)\n",
    "except (Exception, psycopg2.Error) as error : \n",
    "    print (\"Error\", error)\n",
    "finally: \n",
    "    if connection:\n",
    "        cursor.close()\n",
    "        connection.close()\n",
    "        print(\"Connection closed\")\n"
   ]
  },
  {
   "cell_type": "code",
   "execution_count": 5,
   "metadata": {},
   "outputs": [
    {
     "output_type": "stream",
     "name": "stdout",
     "text": [
      " * Serving Flask app \"__main__\" (lazy loading)\n",
      " * Environment: production\n",
      "\u001b[31m   WARNING: This is a development server. Do not use it in a production deployment.\u001b[0m\n",
      "\u001b[2m   Use a production WSGI server instead.\u001b[0m\n",
      " * Debug mode: on\n",
      " * Restarting with stat\n"
     ]
    },
    {
     "output_type": "error",
     "ename": "SystemExit",
     "evalue": "2",
     "traceback": [
      "An exception has occurred, use %tb to see the full traceback.\n",
      "\u001b[1;31mSystemExit\u001b[0m\u001b[1;31m:\u001b[0m 2\n"
     ]
    }
   ],
   "source": [
    "if __name__ == \"__main__\":\n",
    "    app.run(debug=True)"
   ]
  },
  {
   "cell_type": "code",
   "execution_count": null,
   "metadata": {},
   "outputs": [],
   "source": []
  }
 ]
}