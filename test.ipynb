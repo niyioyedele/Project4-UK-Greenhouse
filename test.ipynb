{
 "metadata": {
  "language_info": {
   "codemirror_mode": {
    "name": "ipython",
    "version": 3
   },
   "file_extension": ".py",
   "mimetype": "text/x-python",
   "name": "python",
   "nbconvert_exporter": "python",
   "pygments_lexer": "ipython3",
   "version": "3.8.8"
  },
  "orig_nbformat": 2,
  "kernelspec": {
   "name": "python388jvsc74a57bd005906fb634268bda8792aa40248e648de9f5f715d813eba93f5793438b333358",
   "display_name": "Python 3.8.8 64-bit ('base': conda)"
  }
 },
 "nbformat": 4,
 "nbformat_minor": 2,
 "cells": [
  {
   "cell_type": "code",
   "execution_count": 1,
   "metadata": {},
   "outputs": [],
   "source": [
    "import psycopg2 \n",
    "from psycopg2.extras import RealDictCursor\n",
    "from flask import Flask, render_template \n",
    "import pandas as pd \n",
    "import json"
   ]
  },
  {
   "cell_type": "code",
   "execution_count": 4,
   "metadata": {},
   "outputs": [
    {
     "output_type": "stream",
     "name": "stdout",
     "text": [
      "Connection closed\n"
     ]
    }
   ],
   "source": [
    "#  Connection to energy table \n",
    "try: \n",
    "    connection = psycopg2.connect(user = \"postgres\", \n",
    "                                  password= \"Adewuniyi&3\", \n",
    "                                  host = \"127.0.0.1\", \n",
    "                                  port = \"5432\",\n",
    "                                  database = \"ukgreenhouse\") \n",
    "    cursor = connection.cursor(cursor_factory=RealDictCursor)\n",
    "    selection = \"SELECT * FROM source\"\n",
    "    cursor.execute(selection)\n",
    "    source = cursor.fetchall()\n",
    "    source_df = pd.DataFrame(source)\n",
    "except (Exception, psycopg2.Error) as error : \n",
    "    print (\"Error\", error)\n",
    "finally: \n",
    "    if connection:\n",
    "        cursor.close()\n",
    "        connection.close()\n",
    "        print(\"Connection closed\")"
   ]
  },
  {
   "cell_type": "code",
   "execution_count": 8,
   "metadata": {},
   "outputs": [],
   "source": [
    "app = Flask(__name__)\n",
    "\n",
    "@app.route(\"/\")\n",
    "def home():\n",
    "    return render_template(\"index.html\")"
   ]
  },
  {
   "cell_type": "code",
   "execution_count": 9,
   "metadata": {},
   "outputs": [],
   "source": [
    "@app.route(\"/api/source\")\n",
    "def souce():\n",
    "    result = source_df.to_json(orient=\"records\")\n",
    "    parsed = json.loads(result)\n",
    "    souce_json = json.dumps(parsed, skipkeys = True, allow_nan = True, indent = 6) \n",
    "    return source_json\n"
   ]
  },
  {
   "cell_type": "code",
   "execution_count": 10,
   "metadata": {},
   "outputs": [
    {
     "output_type": "stream",
     "name": "stdout",
     "text": [
      " * Serving Flask app \"__main__\" (lazy loading)\n",
      " * Environment: production\n",
      "   WARNING: This is a development server. Do not use it in a production deployment.\n",
      "   Use a production WSGI server instead.\n",
      " * Debug mode: on\n",
      " * Restarting with windowsapi reloader\n"
     ]
    },
    {
     "output_type": "error",
     "ename": "SystemExit",
     "evalue": "2",
     "traceback": [
      "An exception has occurred, use %tb to see the full traceback.\n",
      "\u001b[1;31mSystemExit\u001b[0m\u001b[1;31m:\u001b[0m 2\n"
     ]
    }
   ],
   "source": [
    "if __name__ == \"__main__\":\n",
    "    app.run(debug=True)"
   ]
  },
  {
   "cell_type": "code",
   "execution_count": null,
   "metadata": {},
   "outputs": [],
   "source": []
  }
 ]
}